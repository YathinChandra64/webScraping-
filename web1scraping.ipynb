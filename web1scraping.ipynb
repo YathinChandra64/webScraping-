{
  "nbformat": 4,
  "nbformat_minor": 0,
  "metadata": {
    "colab": {
      "provenance": [],
      "mount_file_id": "1y8eRFCcDOaesm7Ri4zmLRojDFCqzqjis",
      "authorship_tag": "ABX9TyOa4+tHULgG+RCrsmwVMIim",
      "include_colab_link": true
    },
    "kernelspec": {
      "name": "python3",
      "display_name": "Python 3"
    },
    "language_info": {
      "name": "python"
    }
  },
  "cells": [
    {
      "cell_type": "markdown",
      "metadata": {
        "id": "view-in-github",
        "colab_type": "text"
      },
      "source": [
        "<a href=\"https://colab.research.google.com/github/YathinChandra64/webScraping-/blob/main/web1scraping.ipynb\" target=\"_parent\"><img src=\"https://colab.research.google.com/assets/colab-badge.svg\" alt=\"Open In Colab\"/></a>"
      ]
    },
    {
      "cell_type": "code",
      "execution_count": null,
      "metadata": {
        "id": "PUC_7KRSvwVG"
      },
      "outputs": [],
      "source": [
        "import pandas as pd\n",
        "import requests\n",
        "import numpy as np\n",
        "import matplotlib.pyplot as plt\n",
        "from bs4 import BeautifulSoup\n",
        "import urllib.parse"
      ]
    },
    {
      "cell_type": "code",
      "source": [
        "website='https://www.laptopsdirect.co.uk/ct/laptops-and-netbooks/laptops'"
      ],
      "metadata": {
        "id": "fV3HaWbOv1ti"
      },
      "execution_count": null,
      "outputs": []
    },
    {
      "cell_type": "code",
      "source": [
        "response=requests.get(website)"
      ],
      "metadata": {
        "id": "ZcnejJSPwAOI"
      },
      "execution_count": null,
      "outputs": []
    },
    {
      "cell_type": "code",
      "source": [
        "response.status_code"
      ],
      "metadata": {
        "colab": {
          "base_uri": "https://localhost:8080/"
        },
        "id": "V9hsYYyTwDcQ",
        "outputId": "07645591-ffd7-49d4-856f-e19dc7672340"
      },
      "execution_count": null,
      "outputs": [
        {
          "output_type": "execute_result",
          "data": {
            "text/plain": [
              "200"
            ]
          },
          "metadata": {},
          "execution_count": 4
        }
      ]
    },
    {
      "cell_type": "code",
      "source": [
        "soup=BeautifulSoup(response.content,'html.parser')"
      ],
      "metadata": {
        "id": "UuvtgIsdwGE4"
      },
      "execution_count": null,
      "outputs": []
    },
    {
      "cell_type": "code",
      "source": [
        "results=soup.find_all('div',{'class':'OfferBox'})"
      ],
      "metadata": {
        "id": "zhwsVeazwOgM"
      },
      "execution_count": null,
      "outputs": []
    },
    {
      "cell_type": "code",
      "source": [
        "len(results)"
      ],
      "metadata": {
        "colab": {
          "base_uri": "https://localhost:8080/"
        },
        "id": "18DUGM3Bwc0z",
        "outputId": "f2bd479c-95a0-4e16-f313-a6435acdd1d3"
      },
      "execution_count": null,
      "outputs": [
        {
          "output_type": "execute_result",
          "data": {
            "text/plain": [
              "48"
            ]
          },
          "metadata": {},
          "execution_count": 7
        }
      ]
    },
    {
      "cell_type": "code",
      "source": [
        "results[0]"
      ],
      "metadata": {
        "colab": {
          "base_uri": "https://localhost:8080/"
        },
        "id": "LankVu6YxY8U",
        "outputId": "874766b1-122f-4d8f-e914-86de36c93162"
      },
      "execution_count": null,
      "outputs": [
        {
          "output_type": "execute_result",
          "data": {
            "text/plain": [
              "<div class=\"OfferBox\">\n",
              "<div class=\"merchTopofCentreColumn top5icon\" onload=\"dataLayer.push({'event':'top5IconShown'});\" style=\"display:none; z-index: 20; position: absolute; top: 50px; left: 10px; cursor: pointer;  pointer-events: none; width: 70px;\">\n",
              "<img alt=\"Top 5\" border=\"0\" src=\"https://www.appliancesdirect.co.uk/images/top5-apd.png\"/>\n",
              "</div>\n",
              "<div class=\"SRpercent\">\n",
              "<strong>SAVE <span>24%</span></strong>\n",
              "</div>\n",
              "<div class=\"SavingsPrice\">\n",
              "<strong>SAVE <span>£170<span class=\"tilesUnitText\"></span></span></strong>\n",
              "</div>\n",
              "<div class=\"sr_image\">\n",
              "<a class=\"productHref_1707375\" href=\"/msi-gf63-thin-core-i5-11400h-8gb-512gb-15.6-inch-windows-11-home-gaming-lap-9s7-16r612-496/version.asp\" onclick=\"EnEcomProdClick('9S7-16R612-496', 'msi-gf63-thin-core-i5-11400h-8gb-512gb-15.6-inch-windows-11-home-gaming-lap-9s7-16r612-496/version.asp', '1');\" title=\"MSI GF63 Thin Intel Core i5 8GB 512GB GTX 1650 144Hz 15.6 Inch Windows 11 Gaming Laptop\">\n",
              "<img alt=\"MSI GF63 Thin Intel Core i5 8GB 512GB GTX 1650 144Hz 15.6 Inch Windows 11 Gaming Laptop\" border=\"0\" class=\"offerImage\" id=\"productImage_1707375\" pid=\"1707375\" src=\"/Images/9S7-16R612-496_1_Classic.png?v=5\" title=\"MSI GF63 Thin Intel Core i5 8GB 512GB GTX 1650 144Hz 15.6 Inch Windows 11 Gaming Laptop\"/>\n",
              "</a>\n",
              "<div class=\"merchTopofCentreColumn plogo plogo-msi\">\n",
              "<img border=\"0\" src=\"/Images/logo-msi.png?v=0\"/>\n",
              "</div>\n",
              "</div>\n",
              "<div class=\"OfferBoxProdInfo\">\n",
              "<div class=\"OfferBoxTitle\">\n",
              "<h3>\n",
              "<a class=\"offerboxtitle\" href=\"/msi-gf63-thin-core-i5-11400h-8gb-512gb-15.6-inch-windows-11-home-gaming-lap-9s7-16r612-496/version.asp\" onclick=\"EnEcomProdClick('9S7-16R612-496', 'msi-gf63-thin-core-i5-11400h-8gb-512gb-15.6-inch-windows-11-home-gaming-lap-9s7-16r612-496/version.asp', '1');\" title=\"MSI GF63 Thin Intel Core i5 8GB 512GB GTX 1650 144Hz 15.6 Inch Windows 11 Gaming Laptop\">MSI GF63 Thin Intel Core i5 8GB 512GB GTX 1650 144Hz 15.6 Inch Windows 11 Gaming Laptop</a>\n",
              "</h3>\n",
              "<div>\n",
              "<a class=\"reviews\" href=\"/msi-gf63-thin-core-i5-11400h-8gb-512gb-15.6-inch-windows-11-home-gaming-lap-9s7-16r612-496/version.asp##reviews\">\n",
              "<span class=\"stars-container stars-100\">★★★★★</span>\n",
              "<span>Read 2 reviews</span>\n",
              "</a>\n",
              "</div>\n",
              "</div>\n",
              "<div class=\"merchTopofCentreColumn pp-we-recommend\" style=\"\">\n",
              "<img alt=\"We recommend\" border=\"0\" src=\"/files/images/ld/WeRecommend_Strip.svg\">\n",
              "</img></div>\n",
              "<div class=\"sash-container\">\n",
              "<div class=\"sash-textbanner-half sash-urgency-red-outline\">\n",
              "<p><span class=\"bg bg-delivery bg-red\">free next day delivery </span></p>\n",
              "<p class=\"sash-uk-white\" style=\"text-align: center; font-size: 9px;\">to most of the UK</p>\n",
              "</div>\n",
              "</div>\n",
              "<div class=\"productInfo\" id=\"productInfo_1707375\">\n",
              "<ul>\n",
              "<li><span class=\"proddescvalue\">Intel Core i5 11400H</span> <span class=\"proddesctitle\">Processor</span></li>\n",
              "<li><span class=\"proddescvalue\">GeForce GTX 1650 4GB</span> <span class=\"proddesctitle\">Graphics card</span></li>\n",
              "<li><span class=\"proddescvalue\">15.6 Inch Full HD 144Hz Screen</span></li>\n",
              "<li><span class=\"proddescvalue\">8GB</span> <span class=\"proddesctitle\">RAM</span></li>\n",
              "<li><span class=\"proddescvalue\">512GB</span> <span class=\"proddesctitle\">SSD</span></li>\n",
              "</ul>\n",
              "</div>\n",
              "<div class=\"merchTopofCentreColumn searchicon-laptops\" style=\"\">\n",
              "<img alt=\"Intel Laptop Icon Test\" border=\"0\" src=\"/files/images/ld/558949_942Icons_Intel_101519.png\"/>\n",
              "</div>\n",
              "<div class=\"merchTopofCentreColumn searchicon-laptops\" style=\"\">\n",
              "<img alt=\"NVIDIA Graphics icon\" border=\"0\" src=\"/files/images/ld/558949_942Icons_Nvidia_101519.png\"/>\n",
              "</div>\n",
              "<div class=\"merchTopofCentreColumn searchicon-laptops\" style=\"\">\n",
              "<img alt=\"usb c icon test\" border=\"0\" src=\"/files/images/ld/USB-C-Iconnew.png\"/>\n",
              "</div>\n",
              "<div class=\"merchTopofCentreColumn searchicon-laptops\" style=\"\">\n",
              "<img alt=\"hdmi icon laptop test\" border=\"0\" src=\"/files/images/ld/HDMI2.png\"/>\n",
              "</div>\n",
              "</div>\n",
              "<div class=\"OfferBoxPrice\">\n",
              "<span class=\"strikethrough\">  £699.97 </span>\n",
              "<div class=\"accpricemsgs\">\n",
              "</div>\n",
              "<span class=\"offerpricetext\">Only</span>\n",
              "<span class=\"offerprice\">\n",
              "                £529.97<span class=\"tilesUnitText\"></span>\n",
              "<span class=\"tilesUnitText\"></span>\n",
              "</span>\n",
              "<div class=\"accpricemsgs\">\n",
              "</div>\n",
              "<a class=\"finance\" onclick=\"ga('send', 'event', 'product page', 'Pay Later');\">\n",
              "</a>\n",
              "<div class=\"Availability\" id=\"availability_1707375\"></div>\n",
              "<div class=\"freedel\">\n",
              "<div class=\"freedelproduct\">\n",
              "<img alt=\"✔\" src=\"/SiteContent/images/green-tick-new.svg\"/>\n",
              "                                FREE Delivery\n",
              "                            </div>\n",
              "</div>\n",
              "<a class=\"offerboxlink btn-prime padding-05 width-100 box-border productHref_1707375\" href=\"/msi-gf63-thin-core-i5-11400h-8gb-512gb-15.6-inch-windows-11-home-gaming-lap-9s7-16r612-496/version.asp\" onclick=\"document.location.href='/msi-gf63-thin-core-i5-11400h-8gb-512gb-15.6-inch-windows-11-home-gaming-lap-9s7-16r612-496/version.asp'; EnEcomProdClick('9S7-16R612-496', 'msi-gf63-thin-core-i5-11400h-8gb-512gb-15.6-inch-windows-11-home-gaming-lap-9s7-16r612-496/version.asp', '1');\" title=\"MSI GF63 Thin Intel Core i5 8GB 512GB GTX 1650 144Hz 15.6 Inch Windows 11 Gaming Laptop\">View product</a>\n",
              "<div class=\"sr_compare\">\n",
              "<div class=\"sli_compare\" id=\"1707375_compare\">\n",
              "<input class=\"compare\" onclick=\"AddRemoveFromProductCompareCookie(this, event);\" type=\"checkbox\" value=\"1707375\"/>\n",
              "<input id=\"comphid_1707375\" type=\"hidden\" value=\"Laptops\">\n",
              "<span class=\"compareText\">Compare</span>\n",
              "</input></div>\n",
              "<div class=\"comparedialog\" id=\"msg_1707375\" style=\"display:none;\" title=\"Compare products\">\n",
              "<p>Sorry, you can only compare a maximum of 4 items per category.</p>\n",
              "</div>\n",
              "<div class=\"compBtn\" id=\"compBtn_1707375\">\n",
              "<a href=\"/Compare\" type=\"button\">Compare products »</a>\n",
              "</div>\n",
              "</div>\n",
              "</div>\n",
              "<script type=\"text/javascript\">\n",
              "            $(function () {\n",
              "                if ('False' == 'True') {\n",
              "                    //get the keywords for videos\n",
              "                    GetKeywordsForSearchPage('1707375')\n",
              "                }\n",
              "            });\n",
              "        </script>\n",
              "</div>"
            ]
          },
          "metadata": {},
          "execution_count": 13
        }
      ]
    },
    {
      "cell_type": "code",
      "source": [
        "results[0].find('a',{'class':'offerboxtitle'}).get_text()"
      ],
      "metadata": {
        "colab": {
          "base_uri": "https://localhost:8080/",
          "height": 35
        },
        "id": "bZHPKYd2wfb7",
        "outputId": "d0a3b519-8533-4aef-9343-90e83b0db306"
      },
      "execution_count": null,
      "outputs": [
        {
          "output_type": "execute_result",
          "data": {
            "text/plain": [
              "'MSI GF63 Thin Intel Core i5 8GB 512GB GTX 1650 144Hz 15.6 Inch Windows 11 Gaming Laptop'"
            ],
            "application/vnd.google.colaboratory.intrinsic+json": {
              "type": "string"
            }
          },
          "metadata": {},
          "execution_count": 35
        }
      ]
    },
    {
      "cell_type": "code",
      "source": [
        "results[0].find('span',{'class':'offerprice'}).get_text().strip()"
      ],
      "metadata": {
        "colab": {
          "base_uri": "https://localhost:8080/",
          "height": 35
        },
        "id": "NKEgF4jtwp_b",
        "outputId": "9f0525d4-d62e-49fc-c267-01a7591841d3"
      },
      "execution_count": null,
      "outputs": [
        {
          "output_type": "execute_result",
          "data": {
            "text/plain": [
              "'£529.97'"
            ],
            "application/vnd.google.colaboratory.intrinsic+json": {
              "type": "string"
            }
          },
          "metadata": {},
          "execution_count": 25
        }
      ]
    },
    {
      "cell_type": "code",
      "source": [
        "url=results[0].find('a',{'class':'offerboxtitle'}).get('href')\n",
        "url"
      ],
      "metadata": {
        "colab": {
          "base_uri": "https://localhost:8080/",
          "height": 35
        },
        "id": "Md0mY1vgw7hU",
        "outputId": "c0420221-78bf-47dc-8f69-83c7388ddbfc"
      },
      "execution_count": null,
      "outputs": [
        {
          "output_type": "execute_result",
          "data": {
            "text/plain": [
              "'/msi-gf63-thin-core-i5-11400h-8gb-512gb-15.6-inch-windows-11-home-gaming-lap-9s7-16r612-496/version.asp'"
            ],
            "application/vnd.google.colaboratory.intrinsic+json": {
              "type": "string"
            }
          },
          "metadata": {},
          "execution_count": 34
        }
      ]
    },
    {
      "cell_type": "code",
      "source": [
        "root_url='https://www.laptopsdirect.co.uk'"
      ],
      "metadata": {
        "id": "1JeLcGStzBbs"
      },
      "execution_count": null,
      "outputs": []
    },
    {
      "cell_type": "code",
      "source": [
        "combine_url=root_url+url"
      ],
      "metadata": {
        "id": "2-qLVS3ZzSdJ"
      },
      "execution_count": null,
      "outputs": []
    },
    {
      "cell_type": "code",
      "source": [
        "combine_url"
      ],
      "metadata": {
        "colab": {
          "base_uri": "https://localhost:8080/",
          "height": 52
        },
        "id": "Npxl5Kr3zqbp",
        "outputId": "613c4c0d-26b5-4dd7-cf90-d6abbe21064d"
      },
      "execution_count": null,
      "outputs": [
        {
          "output_type": "execute_result",
          "data": {
            "text/plain": [
              "'https://www.laptopsdirect.co.uk/asus-tuf-gaming-f15-intel-core-i5-11400h-8gb-ram-512gb-ssd-nvidia-rtx-2050-fx506hf-hn001w/version.asp'"
            ],
            "application/vnd.google.colaboratory.intrinsic+json": {
              "type": "string"
            }
          },
          "metadata": {},
          "execution_count": 22
        }
      ]
    },
    {
      "cell_type": "code",
      "source": [
        "results[0].find('div',{'class':'productInfo'}).get_text().strip().replace('\\n',', ')"
      ],
      "metadata": {
        "colab": {
          "base_uri": "https://localhost:8080/",
          "height": 52
        },
        "id": "nUK9-UOPzrv6",
        "outputId": "3332c266-8905-4774-8bb2-8ff5eb9f9cf1"
      },
      "execution_count": null,
      "outputs": [
        {
          "output_type": "execute_result",
          "data": {
            "text/plain": [
              "'Intel Core i5 11400H Processor, GeForce GTX 1650 4GB Graphics card, 15.6 Inch Full HD 144Hz Screen, 8GB RAM, 512GB SSD'"
            ],
            "application/vnd.google.colaboratory.intrinsic+json": {
              "type": "string"
            }
          },
          "metadata": {},
          "execution_count": 33
        }
      ]
    },
    {
      "cell_type": "code",
      "source": [
        "product_name=[]\n",
        "price=[]\n",
        "relative_url=[]\n",
        "product_details=[]\n",
        "for i in results:\n",
        "  product_name.append(i.find('a',{'class':'offerboxtitle'}).get_text())\n",
        "  price.append(i.find('span',{'class':'offerprice'}).get_text().strip())\n",
        "  relative_url.append(i.find('a',{'class':'offerboxtitle'}).get('href'))\n",
        "  product_details.append(i.find('div',{'class':'productInfo'}).get_text().strip().replace('\\n',', '))"
      ],
      "metadata": {
        "id": "wSZftNqZ1R4H"
      },
      "execution_count": null,
      "outputs": []
    },
    {
      "cell_type": "code",
      "source": [
        "url_combine=[]\n",
        "for i in relative_url:\n",
        "  url_combine.append(urllib.parse.urljoin(root_url,i))\n"
      ],
      "metadata": {
        "colab": {
          "base_uri": "https://localhost:8080/"
        },
        "id": "M9viFGE42_RP",
        "outputId": "f1fb1f7f-e5c6-4688-d158-dcdff9d2f827"
      },
      "execution_count": null,
      "outputs": [
        {
          "output_type": "execute_result",
          "data": {
            "text/plain": [
              "48"
            ]
          },
          "metadata": {},
          "execution_count": 47
        }
      ]
    },
    {
      "cell_type": "code",
      "source": [
        "url_combine"
      ],
      "metadata": {
        "id": "yRnjpXqW3BFM"
      },
      "execution_count": null,
      "outputs": []
    },
    {
      "cell_type": "code",
      "source": [
        "product_final=pd.DataFrame({'Name':product_name,'Price':price,'ProductDetails':product_details,'Link':url_combine})"
      ],
      "metadata": {
        "id": "zOZLLSYr5v4g"
      },
      "execution_count": null,
      "outputs": []
    },
    {
      "cell_type": "code",
      "source": [
        "product_final"
      ],
      "metadata": {
        "colab": {
          "base_uri": "https://localhost:8080/",
          "height": 1000
        },
        "id": "tdADTbhR6ssq",
        "outputId": "02e58619-97d5-4950-b63d-bf3300fba897"
      },
      "execution_count": null,
      "outputs": [
        {
          "output_type": "execute_result",
          "data": {
            "text/plain": [
              "                                                 Name     Price  \\\n",
              "0   MSI GF63 Thin Intel Core i5 8GB 512GB GTX 1650...   £529.97   \n",
              "1   Asus TUF Gaming F15 Intel Core i5 8GB 512GB RT...   £597.97   \n",
              "2   Refurbished HP Zbook 15 G6 Core i7 9th gen 32G...   £849.97   \n",
              "3   HP ProBook 635 Aero G8 AMD Ryzen 5 8GB RAM 256...   £429.97   \n",
              "4   MSI Katana 17 Intel Core i7 16GB 1TB SSD RTX 4...  £1099.97   \n",
              "5   MSI Pulse 15 Core i7-13700H 16GB 1TB SSD RTX 4...  £1197.97   \n",
              "6   MSI Thin GF63 Intel Core i5 8GB 512GB RTX 4050...   £769.97   \n",
              "7   HP Victus 16-e0038na Ryzen 7 16GB 512GB RTX 30...  £1099.97   \n",
              "8   Medion Erazer Major X20 Intel Core i9 32GB 1TB...  £1897.97   \n",
              "9   Lenovo Legion 5 AMD Ryzen 7 16GB 512GB RTX 306...  £1299.97   \n",
              "10  MSI Stealth 17 Studio Intel Core i7-13700H 16G...  £1699.97   \n",
              "11  Razer Blade 16 Intel Core i9 16GB 1TB RTX 4060...  £2499.97   \n",
              "12  Medion Erazer NB Scout E10 17.3\" FHD 144Hz Int...   £699.97   \n",
              "13  HP OMEN 16 N0002NA AMD Ryzen 7-6800H 16GB 1TB ...  £1029.97   \n",
              "14  Asus TUF Gaming F15 Intel Core i5 16GB 512GB R...   £697.97   \n",
              "15  Apple MacBook Air 2023 15.3 Inch M2 8GB RAM 25...  £1269.97   \n",
              "16  Apple MacBook Air 2023 15.3 Inch M2 8GB RAM 51...  £1439.97   \n",
              "17  ASUS ROG Zephyrus G16 Intel Core i9 16GB 1TB R...  £2199.97   \n",
              "18  Apple MacBook Air 2023 15.3 Inch M2 8GB RAM 25...  £1269.97   \n",
              "19  Medion Erazer Crawler E10 15.6\" FHD 60Hz Intel...   £499.97   \n",
              "20  Gigabyte G5 Intel Core i5 16GB 512GB RTX 4060 ...   £897.97   \n",
              "21  MEDION Akoya E15407 Intel Core i5 8GB RAM 256G...   £349.97   \n",
              "22  Lenovo V15 G3 Core i7 16GB RAM 512GB SSD 15.6 ...   £619.97   \n",
              "23  Lenovo V15 G3 AMD Ryzen 7 16GB RAM 512GB SSD 1...   £529.97   \n",
              "24  Lenovo V15 IML Core i5 8GB 256GB SSD 15.6 Inch...   £409.97   \n",
              "25  Asus ExpertBook Core i5 8GB RAM 256GB SSD 15.6...   £399.97   \n",
              "26  HP 250 G9 Intel Core i7 16GB RAM 512GB SSD 15....   £597.97   \n",
              "27  Lenovo ThinkBook 15 G2 ITL Core i5 8GB 256GB S...   £537.97   \n",
              "28  HP 250 G9 Laptop Intel Core i5 16GB 512 SSD 15...   £497.97   \n",
              "29  Asus Expertbook Core i3 8GB RAM 256GB SSD 15.6...   £339.97   \n",
              "30  Lenovo V15 Gen 2 Core i5 8GB RAM 512GB SSD 15....   £439.97   \n",
              "31  Lenovo V15 G4 AMN Ryzen 5 7520U 16GB RAM 256GB...   £449.97   \n",
              "32  HP 250 G9 Intel Core i7 16GB 512GB SSD 15.6 In...   £749.97   \n",
              "33  Lenovo ThinkPad E15 Gen 4 Core i7-1255U 16GB 5...   £914.97   \n",
              "34  Apple MacBook Pro 16 Inch M1 Pro 16GB RAM 1TB ...  £1899.97   \n",
              "35  HP 250 G9 Core i5-1235U 16GB 512GB SSD 15.6 in...   £594.97   \n",
              "36  Lenovo 100w Gen 3 AMD 3015e 4GB RAM 128GB 11.6...   £149.97   \n",
              "37  Asus ExpertBook Core i5-1135G7 16GB 256GB SSD ...   £429.97   \n",
              "38  Lenovo V15 G4 AMN AMD Ryzen 5 8GB 512GB SSD 15...   £414.97   \n",
              "39  Dell VOSTRO 3510 Intel Core i5 8GB 256GB SSD 1...   £519.97   \n",
              "40  Medion Akoya E15411 Intel Core i3 8GB RAM 256G...   £299.97   \n",
              "41  Lenovo V17 G3 Intel Core i5-1235U 8GB 512GB SS...   £599.97   \n",
              "42  Razer Book 13 EVO Core i7-1165G7 16GB 1TB SSD ...   £799.97   \n",
              "43  Dell Vostro 5320 Intel Core i5-1240P 8GB 256GB...   £479.97   \n",
              "44  Lenovo V15 Intel Core i5-1235U 8GB RAM 256GB S...   £469.97   \n",
              "45  Refurbished HP EliteBook 840 G3 Ultrabook Core...   £229.97   \n",
              "46  Refurbished Asus C523 Intel Celeron N3350 4GB ...   £169.97   \n",
              "47  HP 255 G9 AMD Ryzen 5 8GB RAM 512GB SSD 15.6 I...   £414.97   \n",
              "\n",
              "                                       ProductDetails  \\\n",
              "0   Intel Core i5 11400H Processor, GeForce GTX 16...   \n",
              "1   Intel Core i5 11400H Processor, GeForce RTX 20...   \n",
              "2   Intel Core i7 CORE I7-9850H 2.60 GHZ Processor...   \n",
              "3   AMD Ryzen 5 5600U Processor, Radeon Graphics G...   \n",
              "4   Intel Core i7 13620H Processor, GeForce RTX 40...   \n",
              "5   Intel Core i7 13700H Processor, GeForce RTX 40...   \n",
              "6   Intel Core i5 12450H Processor, GeForce RTX 40...   \n",
              "7   AMD Ryzen 7 5800H Processor, GeForce RTX 3060 ...   \n",
              "8   Intel Core i9 13900HX Processor, GeForce RTX 4...   \n",
              "9   AMD Ryzen 7 6800H Processor, GeForce RTX 3060 ...   \n",
              "10  Intel Core i7 13700H Processor, GeForce RTX 40...   \n",
              "11  Intel Core i7 13800H Processor, RTX 4060 8GB G...   \n",
              "12  Intel Core i5 12450H Processor, GeForce RTX 30...   \n",
              "13  AMD Ryzen 7 6800H Processor, GeForce RTX 3060 ...   \n",
              "14  Intel Core i5 11400H Processor, GeForce RTX 30...   \n",
              "15  M2 Processor, 15.3 Inch 2880 x 1864 Screen, 8G...   \n",
              "16  M2 Processor, 15.3 Inch 2880 x 1864 Screen, 8G...   \n",
              "17  Intel Core i9 13900H Processor, GeForce RTX 40...   \n",
              "18  M2 Processor, 15.3 Inch 2880 x 1864 Screen, 8G...   \n",
              "19  Intel Core i5 10300H Processor, GeForce GTX 16...   \n",
              "20  Intel Core i5 12500H Processor, GeForce RTX 40...   \n",
              "21  Intel Core i5 1035G1 Processor, 15.6 Inch Full...   \n",
              "22  Intel Core i7 1255U Processor, Iris Xe Graphic...   \n",
              "23  AMD Ryzen 7 5825U Processor, 15.6 Inch Full HD...   \n",
              "24  Intel Core i5 10210U Processor, UHD Graphics G...   \n",
              "25  Intel Core i5 1135G7 Processor, 15.6 Inch Full...   \n",
              "26  Intel Core i7 1255U Processor, Iris Xe Graphic...   \n",
              "27  Intel Core i5 1135G7 Processor, Iris Xe Graphi...   \n",
              "28  Intel Core i5 1235U Processor, Iris Xe Graphic...   \n",
              "29  Intel Core i3 1115G4 Processor, 15.6 Inch Full...   \n",
              "30  Intel Core i5 1135G7 Processor, Iris Xe Graphi...   \n",
              "31  AMD Ryzen 5 7520U Processor, AMD Radeon 610M G...   \n",
              "32  Intel Core i7 1255U Processor, Iris Xe Graphic...   \n",
              "33  Intel Core i7 1255U Processor, Iris Xe Graphic...   \n",
              "34  M1 Pro M1 Processor, M1 Pro 16-Core Graphics c...   \n",
              "35  Intel Core i5 1235U Processor, Iris Xe Graphic...   \n",
              "36  3000 Series 3015e Processor, Radeon Graphics G...   \n",
              "37  Intel Core i5 1135G7 Processor, 15.6 Inch Full...   \n",
              "38  AMD Ryzen 5 7520U Processor, 15.6 Inch Full HD...   \n",
              "39  Intel Core i5 1135G7 Processor, Iris Xe Graphi...   \n",
              "40  Intel Core i3 1115G4 Processor, 15.6 Inch Full...   \n",
              "41  Intel Core i5 1235U Processor, Iris Xe Graphic...   \n",
              "42  Intel Core i7 1165G7 Processor, Iris Xe Graphi...   \n",
              "43  Intel Core i5 1240P Processor, Iris Xe Graphic...   \n",
              "44  Intel Core i5 1235U Processor, Iris Xe Graphic...   \n",
              "45  Intel Core i5 6200U Processor, 14 Inch 1366 x ...   \n",
              "46  Intel Celeron N3350 Processor, 15.6 Inch Full ...   \n",
              "47  AMD Ryzen 5 5625U Processor, Radeon Graphics G...   \n",
              "\n",
              "                                                 Link  \n",
              "0   https://www.laptopsdirect.co.uk/msi-gf63-thin-...  \n",
              "1   https://www.laptopsdirect.co.uk/asus-tuf-gamin...  \n",
              "2   https://www.laptopsdirect.co.uk/refurbished-hp...  \n",
              "3   https://www.laptopsdirect.co.uk/-43a03ea/versi...  \n",
              "4   https://www.laptopsdirect.co.uk/msi-katana-17-...  \n",
              "5   https://www.laptopsdirect.co.uk/msi-pulse-15-i...  \n",
              "6   https://www.laptopsdirect.co.uk/msi-thin-gf63-...  \n",
              "7   https://www.laptopsdirect.co.uk/hp-victus-16-e...  \n",
              "8   https://www.laptopsdirect.co.uk/medion-erazer-...  \n",
              "9   https://www.laptopsdirect.co.uk/lenovo-legion-...  \n",
              "10  https://www.laptopsdirect.co.uk/msi-stealth-17...  \n",
              "11  https://www.laptopsdirect.co.uk/blade-16-rz09-...  \n",
              "12  https://www.laptopsdirect.co.uk/medion-erazer-...  \n",
              "13  https://www.laptopsdirect.co.uk/hp-omen-16-n00...  \n",
              "14  https://www.laptopsdirect.co.uk/asus-tuf-gamin...  \n",
              "15  https://www.laptopsdirect.co.uk/apple-macbook-...  \n",
              "16  https://www.laptopsdirect.co.uk/apple-macbook-...  \n",
              "17  https://www.laptopsdirect.co.uk/asus-rog-zephy...  \n",
              "18  https://www.laptopsdirect.co.uk/apple-macbook-...  \n",
              "19  https://www.laptopsdirect.co.uk/medion-crawler...  \n",
              "20  https://www.laptopsdirect.co.uk/gigabyte-g5-in...  \n",
              "21  https://www.laptopsdirect.co.uk/medion-akoya-e...  \n",
              "22  https://www.laptopsdirect.co.uk/lenovo-v15-g3-...  \n",
              "23  https://www.laptopsdirect.co.uk/lenovo-v15-g3-...  \n",
              "24  https://www.laptopsdirect.co.uk/lenovo-v15-iml...  \n",
              "25  https://www.laptopsdirect.co.uk/asus-expertboo...  \n",
              "26  https://www.laptopsdirect.co.uk/hp-250-g9-lapt...  \n",
              "27  https://www.laptopsdirect.co.uk/lenovo-thinkbo...  \n",
              "28  https://www.laptopsdirect.co.uk/hp-250-g9-lapt...  \n",
              "29  https://www.laptopsdirect.co.uk/asus-experbook...  \n",
              "30  https://www.laptopsdirect.co.uk/lenovo-v15-gen...  \n",
              "31  https://www.laptopsdirect.co.uk/lenovo-v15-g4-...  \n",
              "32  https://www.laptopsdirect.co.uk/hp-250-g9-inte...  \n",
              "33  https://www.laptopsdirect.co.uk/lenovo-thinkpa...  \n",
              "34  https://www.laptopsdirect.co.uk/apple-macbook-...  \n",
              "35  https://www.laptopsdirect.co.uk/hp-250-g9-core...  \n",
              "36  https://www.laptopsdirect.co.uk/lenovo-100w-ge...  \n",
              "37  https://www.laptopsdirect.co.uk/asus-expertboo...  \n",
              "38  https://www.laptopsdirect.co.uk/lenovo-v15-g4-...  \n",
              "39  https://www.laptopsdirect.co.uk/-hpwyt/version...  \n",
              "40  https://www.laptopsdirect.co.uk/medion-akoya-n...  \n",
              "41  https://www.laptopsdirect.co.uk/lenovo-v17-g3-...  \n",
              "42  https://www.laptopsdirect.co.uk/razer-book-13-...  \n",
              "43  https://www.laptopsdirect.co.uk/dell-vostro-53...  \n",
              "44  https://www.laptopsdirect.co.uk/lenovo-v15-int...  \n",
              "45  https://www.laptopsdirect.co.uk/refurbished-hp...  \n",
              "46  https://www.laptopsdirect.co.uk/refurbished-as...  \n",
              "47  https://www.laptopsdirect.co.uk/hp-255-g9-amd-...  "
            ],
            "text/html": [
              "\n",
              "  <div id=\"df-031df29c-d75c-4b63-8722-4c3ee78fc061\" class=\"colab-df-container\">\n",
              "    <div>\n",
              "<style scoped>\n",
              "    .dataframe tbody tr th:only-of-type {\n",
              "        vertical-align: middle;\n",
              "    }\n",
              "\n",
              "    .dataframe tbody tr th {\n",
              "        vertical-align: top;\n",
              "    }\n",
              "\n",
              "    .dataframe thead th {\n",
              "        text-align: right;\n",
              "    }\n",
              "</style>\n",
              "<table border=\"1\" class=\"dataframe\">\n",
              "  <thead>\n",
              "    <tr style=\"text-align: right;\">\n",
              "      <th></th>\n",
              "      <th>Name</th>\n",
              "      <th>Price</th>\n",
              "      <th>ProductDetails</th>\n",
              "      <th>Link</th>\n",
              "    </tr>\n",
              "  </thead>\n",
              "  <tbody>\n",
              "    <tr>\n",
              "      <th>0</th>\n",
              "      <td>MSI GF63 Thin Intel Core i5 8GB 512GB GTX 1650...</td>\n",
              "      <td>£529.97</td>\n",
              "      <td>Intel Core i5 11400H Processor, GeForce GTX 16...</td>\n",
              "      <td>https://www.laptopsdirect.co.uk/msi-gf63-thin-...</td>\n",
              "    </tr>\n",
              "    <tr>\n",
              "      <th>1</th>\n",
              "      <td>Asus TUF Gaming F15 Intel Core i5 8GB 512GB RT...</td>\n",
              "      <td>£597.97</td>\n",
              "      <td>Intel Core i5 11400H Processor, GeForce RTX 20...</td>\n",
              "      <td>https://www.laptopsdirect.co.uk/asus-tuf-gamin...</td>\n",
              "    </tr>\n",
              "    <tr>\n",
              "      <th>2</th>\n",
              "      <td>Refurbished HP Zbook 15 G6 Core i7 9th gen 32G...</td>\n",
              "      <td>£849.97</td>\n",
              "      <td>Intel Core i7 CORE I7-9850H 2.60 GHZ Processor...</td>\n",
              "      <td>https://www.laptopsdirect.co.uk/refurbished-hp...</td>\n",
              "    </tr>\n",
              "    <tr>\n",
              "      <th>3</th>\n",
              "      <td>HP ProBook 635 Aero G8 AMD Ryzen 5 8GB RAM 256...</td>\n",
              "      <td>£429.97</td>\n",
              "      <td>AMD Ryzen 5 5600U Processor, Radeon Graphics G...</td>\n",
              "      <td>https://www.laptopsdirect.co.uk/-43a03ea/versi...</td>\n",
              "    </tr>\n",
              "    <tr>\n",
              "      <th>4</th>\n",
              "      <td>MSI Katana 17 Intel Core i7 16GB 1TB SSD RTX 4...</td>\n",
              "      <td>£1099.97</td>\n",
              "      <td>Intel Core i7 13620H Processor, GeForce RTX 40...</td>\n",
              "      <td>https://www.laptopsdirect.co.uk/msi-katana-17-...</td>\n",
              "    </tr>\n",
              "    <tr>\n",
              "      <th>5</th>\n",
              "      <td>MSI Pulse 15 Core i7-13700H 16GB 1TB SSD RTX 4...</td>\n",
              "      <td>£1197.97</td>\n",
              "      <td>Intel Core i7 13700H Processor, GeForce RTX 40...</td>\n",
              "      <td>https://www.laptopsdirect.co.uk/msi-pulse-15-i...</td>\n",
              "    </tr>\n",
              "    <tr>\n",
              "      <th>6</th>\n",
              "      <td>MSI Thin GF63 Intel Core i5 8GB 512GB RTX 4050...</td>\n",
              "      <td>£769.97</td>\n",
              "      <td>Intel Core i5 12450H Processor, GeForce RTX 40...</td>\n",
              "      <td>https://www.laptopsdirect.co.uk/msi-thin-gf63-...</td>\n",
              "    </tr>\n",
              "    <tr>\n",
              "      <th>7</th>\n",
              "      <td>HP Victus 16-e0038na Ryzen 7 16GB 512GB RTX 30...</td>\n",
              "      <td>£1099.97</td>\n",
              "      <td>AMD Ryzen 7 5800H Processor, GeForce RTX 3060 ...</td>\n",
              "      <td>https://www.laptopsdirect.co.uk/hp-victus-16-e...</td>\n",
              "    </tr>\n",
              "    <tr>\n",
              "      <th>8</th>\n",
              "      <td>Medion Erazer Major X20 Intel Core i9 32GB 1TB...</td>\n",
              "      <td>£1897.97</td>\n",
              "      <td>Intel Core i9 13900HX Processor, GeForce RTX 4...</td>\n",
              "      <td>https://www.laptopsdirect.co.uk/medion-erazer-...</td>\n",
              "    </tr>\n",
              "    <tr>\n",
              "      <th>9</th>\n",
              "      <td>Lenovo Legion 5 AMD Ryzen 7 16GB 512GB RTX 306...</td>\n",
              "      <td>£1299.97</td>\n",
              "      <td>AMD Ryzen 7 6800H Processor, GeForce RTX 3060 ...</td>\n",
              "      <td>https://www.laptopsdirect.co.uk/lenovo-legion-...</td>\n",
              "    </tr>\n",
              "    <tr>\n",
              "      <th>10</th>\n",
              "      <td>MSI Stealth 17 Studio Intel Core i7-13700H 16G...</td>\n",
              "      <td>£1699.97</td>\n",
              "      <td>Intel Core i7 13700H Processor, GeForce RTX 40...</td>\n",
              "      <td>https://www.laptopsdirect.co.uk/msi-stealth-17...</td>\n",
              "    </tr>\n",
              "    <tr>\n",
              "      <th>11</th>\n",
              "      <td>Razer Blade 16 Intel Core i9 16GB 1TB RTX 4060...</td>\n",
              "      <td>£2499.97</td>\n",
              "      <td>Intel Core i7 13800H Processor, RTX 4060 8GB G...</td>\n",
              "      <td>https://www.laptopsdirect.co.uk/blade-16-rz09-...</td>\n",
              "    </tr>\n",
              "    <tr>\n",
              "      <th>12</th>\n",
              "      <td>Medion Erazer NB Scout E10 17.3\" FHD 144Hz Int...</td>\n",
              "      <td>£699.97</td>\n",
              "      <td>Intel Core i5 12450H Processor, GeForce RTX 30...</td>\n",
              "      <td>https://www.laptopsdirect.co.uk/medion-erazer-...</td>\n",
              "    </tr>\n",
              "    <tr>\n",
              "      <th>13</th>\n",
              "      <td>HP OMEN 16 N0002NA AMD Ryzen 7-6800H 16GB 1TB ...</td>\n",
              "      <td>£1029.97</td>\n",
              "      <td>AMD Ryzen 7 6800H Processor, GeForce RTX 3060 ...</td>\n",
              "      <td>https://www.laptopsdirect.co.uk/hp-omen-16-n00...</td>\n",
              "    </tr>\n",
              "    <tr>\n",
              "      <th>14</th>\n",
              "      <td>Asus TUF Gaming F15 Intel Core i5 16GB 512GB R...</td>\n",
              "      <td>£697.97</td>\n",
              "      <td>Intel Core i5 11400H Processor, GeForce RTX 30...</td>\n",
              "      <td>https://www.laptopsdirect.co.uk/asus-tuf-gamin...</td>\n",
              "    </tr>\n",
              "    <tr>\n",
              "      <th>15</th>\n",
              "      <td>Apple MacBook Air 2023 15.3 Inch M2 8GB RAM 25...</td>\n",
              "      <td>£1269.97</td>\n",
              "      <td>M2 Processor, 15.3 Inch 2880 x 1864 Screen, 8G...</td>\n",
              "      <td>https://www.laptopsdirect.co.uk/apple-macbook-...</td>\n",
              "    </tr>\n",
              "    <tr>\n",
              "      <th>16</th>\n",
              "      <td>Apple MacBook Air 2023 15.3 Inch M2 8GB RAM 51...</td>\n",
              "      <td>£1439.97</td>\n",
              "      <td>M2 Processor, 15.3 Inch 2880 x 1864 Screen, 8G...</td>\n",
              "      <td>https://www.laptopsdirect.co.uk/apple-macbook-...</td>\n",
              "    </tr>\n",
              "    <tr>\n",
              "      <th>17</th>\n",
              "      <td>ASUS ROG Zephyrus G16 Intel Core i9 16GB 1TB R...</td>\n",
              "      <td>£2199.97</td>\n",
              "      <td>Intel Core i9 13900H Processor, GeForce RTX 40...</td>\n",
              "      <td>https://www.laptopsdirect.co.uk/asus-rog-zephy...</td>\n",
              "    </tr>\n",
              "    <tr>\n",
              "      <th>18</th>\n",
              "      <td>Apple MacBook Air 2023 15.3 Inch M2 8GB RAM 25...</td>\n",
              "      <td>£1269.97</td>\n",
              "      <td>M2 Processor, 15.3 Inch 2880 x 1864 Screen, 8G...</td>\n",
              "      <td>https://www.laptopsdirect.co.uk/apple-macbook-...</td>\n",
              "    </tr>\n",
              "    <tr>\n",
              "      <th>19</th>\n",
              "      <td>Medion Erazer Crawler E10 15.6\" FHD 60Hz Intel...</td>\n",
              "      <td>£499.97</td>\n",
              "      <td>Intel Core i5 10300H Processor, GeForce GTX 16...</td>\n",
              "      <td>https://www.laptopsdirect.co.uk/medion-crawler...</td>\n",
              "    </tr>\n",
              "    <tr>\n",
              "      <th>20</th>\n",
              "      <td>Gigabyte G5 Intel Core i5 16GB 512GB RTX 4060 ...</td>\n",
              "      <td>£897.97</td>\n",
              "      <td>Intel Core i5 12500H Processor, GeForce RTX 40...</td>\n",
              "      <td>https://www.laptopsdirect.co.uk/gigabyte-g5-in...</td>\n",
              "    </tr>\n",
              "    <tr>\n",
              "      <th>21</th>\n",
              "      <td>MEDION Akoya E15407 Intel Core i5 8GB RAM 256G...</td>\n",
              "      <td>£349.97</td>\n",
              "      <td>Intel Core i5 1035G1 Processor, 15.6 Inch Full...</td>\n",
              "      <td>https://www.laptopsdirect.co.uk/medion-akoya-e...</td>\n",
              "    </tr>\n",
              "    <tr>\n",
              "      <th>22</th>\n",
              "      <td>Lenovo V15 G3 Core i7 16GB RAM 512GB SSD 15.6 ...</td>\n",
              "      <td>£619.97</td>\n",
              "      <td>Intel Core i7 1255U Processor, Iris Xe Graphic...</td>\n",
              "      <td>https://www.laptopsdirect.co.uk/lenovo-v15-g3-...</td>\n",
              "    </tr>\n",
              "    <tr>\n",
              "      <th>23</th>\n",
              "      <td>Lenovo V15 G3 AMD Ryzen 7 16GB RAM 512GB SSD 1...</td>\n",
              "      <td>£529.97</td>\n",
              "      <td>AMD Ryzen 7 5825U Processor, 15.6 Inch Full HD...</td>\n",
              "      <td>https://www.laptopsdirect.co.uk/lenovo-v15-g3-...</td>\n",
              "    </tr>\n",
              "    <tr>\n",
              "      <th>24</th>\n",
              "      <td>Lenovo V15 IML Core i5 8GB 256GB SSD 15.6 Inch...</td>\n",
              "      <td>£409.97</td>\n",
              "      <td>Intel Core i5 10210U Processor, UHD Graphics G...</td>\n",
              "      <td>https://www.laptopsdirect.co.uk/lenovo-v15-iml...</td>\n",
              "    </tr>\n",
              "    <tr>\n",
              "      <th>25</th>\n",
              "      <td>Asus ExpertBook Core i5 8GB RAM 256GB SSD 15.6...</td>\n",
              "      <td>£399.97</td>\n",
              "      <td>Intel Core i5 1135G7 Processor, 15.6 Inch Full...</td>\n",
              "      <td>https://www.laptopsdirect.co.uk/asus-expertboo...</td>\n",
              "    </tr>\n",
              "    <tr>\n",
              "      <th>26</th>\n",
              "      <td>HP 250 G9 Intel Core i7 16GB RAM 512GB SSD 15....</td>\n",
              "      <td>£597.97</td>\n",
              "      <td>Intel Core i7 1255U Processor, Iris Xe Graphic...</td>\n",
              "      <td>https://www.laptopsdirect.co.uk/hp-250-g9-lapt...</td>\n",
              "    </tr>\n",
              "    <tr>\n",
              "      <th>27</th>\n",
              "      <td>Lenovo ThinkBook 15 G2 ITL Core i5 8GB 256GB S...</td>\n",
              "      <td>£537.97</td>\n",
              "      <td>Intel Core i5 1135G7 Processor, Iris Xe Graphi...</td>\n",
              "      <td>https://www.laptopsdirect.co.uk/lenovo-thinkbo...</td>\n",
              "    </tr>\n",
              "    <tr>\n",
              "      <th>28</th>\n",
              "      <td>HP 250 G9 Laptop Intel Core i5 16GB 512 SSD 15...</td>\n",
              "      <td>£497.97</td>\n",
              "      <td>Intel Core i5 1235U Processor, Iris Xe Graphic...</td>\n",
              "      <td>https://www.laptopsdirect.co.uk/hp-250-g9-lapt...</td>\n",
              "    </tr>\n",
              "    <tr>\n",
              "      <th>29</th>\n",
              "      <td>Asus Expertbook Core i3 8GB RAM 256GB SSD 15.6...</td>\n",
              "      <td>£339.97</td>\n",
              "      <td>Intel Core i3 1115G4 Processor, 15.6 Inch Full...</td>\n",
              "      <td>https://www.laptopsdirect.co.uk/asus-experbook...</td>\n",
              "    </tr>\n",
              "    <tr>\n",
              "      <th>30</th>\n",
              "      <td>Lenovo V15 Gen 2 Core i5 8GB RAM 512GB SSD 15....</td>\n",
              "      <td>£439.97</td>\n",
              "      <td>Intel Core i5 1135G7 Processor, Iris Xe Graphi...</td>\n",
              "      <td>https://www.laptopsdirect.co.uk/lenovo-v15-gen...</td>\n",
              "    </tr>\n",
              "    <tr>\n",
              "      <th>31</th>\n",
              "      <td>Lenovo V15 G4 AMN Ryzen 5 7520U 16GB RAM 256GB...</td>\n",
              "      <td>£449.97</td>\n",
              "      <td>AMD Ryzen 5 7520U Processor, AMD Radeon 610M G...</td>\n",
              "      <td>https://www.laptopsdirect.co.uk/lenovo-v15-g4-...</td>\n",
              "    </tr>\n",
              "    <tr>\n",
              "      <th>32</th>\n",
              "      <td>HP 250 G9 Intel Core i7 16GB 512GB SSD 15.6 In...</td>\n",
              "      <td>£749.97</td>\n",
              "      <td>Intel Core i7 1255U Processor, Iris Xe Graphic...</td>\n",
              "      <td>https://www.laptopsdirect.co.uk/hp-250-g9-inte...</td>\n",
              "    </tr>\n",
              "    <tr>\n",
              "      <th>33</th>\n",
              "      <td>Lenovo ThinkPad E15 Gen 4 Core i7-1255U 16GB 5...</td>\n",
              "      <td>£914.97</td>\n",
              "      <td>Intel Core i7 1255U Processor, Iris Xe Graphic...</td>\n",
              "      <td>https://www.laptopsdirect.co.uk/lenovo-thinkpa...</td>\n",
              "    </tr>\n",
              "    <tr>\n",
              "      <th>34</th>\n",
              "      <td>Apple MacBook Pro 16 Inch M1 Pro 16GB RAM 1TB ...</td>\n",
              "      <td>£1899.97</td>\n",
              "      <td>M1 Pro M1 Processor, M1 Pro 16-Core Graphics c...</td>\n",
              "      <td>https://www.laptopsdirect.co.uk/apple-macbook-...</td>\n",
              "    </tr>\n",
              "    <tr>\n",
              "      <th>35</th>\n",
              "      <td>HP 250 G9 Core i5-1235U 16GB 512GB SSD 15.6 in...</td>\n",
              "      <td>£594.97</td>\n",
              "      <td>Intel Core i5 1235U Processor, Iris Xe Graphic...</td>\n",
              "      <td>https://www.laptopsdirect.co.uk/hp-250-g9-core...</td>\n",
              "    </tr>\n",
              "    <tr>\n",
              "      <th>36</th>\n",
              "      <td>Lenovo 100w Gen 3 AMD 3015e 4GB RAM 128GB 11.6...</td>\n",
              "      <td>£149.97</td>\n",
              "      <td>3000 Series 3015e Processor, Radeon Graphics G...</td>\n",
              "      <td>https://www.laptopsdirect.co.uk/lenovo-100w-ge...</td>\n",
              "    </tr>\n",
              "    <tr>\n",
              "      <th>37</th>\n",
              "      <td>Asus ExpertBook Core i5-1135G7 16GB 256GB SSD ...</td>\n",
              "      <td>£429.97</td>\n",
              "      <td>Intel Core i5 1135G7 Processor, 15.6 Inch Full...</td>\n",
              "      <td>https://www.laptopsdirect.co.uk/asus-expertboo...</td>\n",
              "    </tr>\n",
              "    <tr>\n",
              "      <th>38</th>\n",
              "      <td>Lenovo V15 G4 AMN AMD Ryzen 5 8GB 512GB SSD 15...</td>\n",
              "      <td>£414.97</td>\n",
              "      <td>AMD Ryzen 5 7520U Processor, 15.6 Inch Full HD...</td>\n",
              "      <td>https://www.laptopsdirect.co.uk/lenovo-v15-g4-...</td>\n",
              "    </tr>\n",
              "    <tr>\n",
              "      <th>39</th>\n",
              "      <td>Dell VOSTRO 3510 Intel Core i5 8GB 256GB SSD 1...</td>\n",
              "      <td>£519.97</td>\n",
              "      <td>Intel Core i5 1135G7 Processor, Iris Xe Graphi...</td>\n",
              "      <td>https://www.laptopsdirect.co.uk/-hpwyt/version...</td>\n",
              "    </tr>\n",
              "    <tr>\n",
              "      <th>40</th>\n",
              "      <td>Medion Akoya E15411 Intel Core i3 8GB RAM 256G...</td>\n",
              "      <td>£299.97</td>\n",
              "      <td>Intel Core i3 1115G4 Processor, 15.6 Inch Full...</td>\n",
              "      <td>https://www.laptopsdirect.co.uk/medion-akoya-n...</td>\n",
              "    </tr>\n",
              "    <tr>\n",
              "      <th>41</th>\n",
              "      <td>Lenovo V17 G3 Intel Core i5-1235U 8GB 512GB SS...</td>\n",
              "      <td>£599.97</td>\n",
              "      <td>Intel Core i5 1235U Processor, Iris Xe Graphic...</td>\n",
              "      <td>https://www.laptopsdirect.co.uk/lenovo-v17-g3-...</td>\n",
              "    </tr>\n",
              "    <tr>\n",
              "      <th>42</th>\n",
              "      <td>Razer Book 13 EVO Core i7-1165G7 16GB 1TB SSD ...</td>\n",
              "      <td>£799.97</td>\n",
              "      <td>Intel Core i7 1165G7 Processor, Iris Xe Graphi...</td>\n",
              "      <td>https://www.laptopsdirect.co.uk/razer-book-13-...</td>\n",
              "    </tr>\n",
              "    <tr>\n",
              "      <th>43</th>\n",
              "      <td>Dell Vostro 5320 Intel Core i5-1240P 8GB 256GB...</td>\n",
              "      <td>£479.97</td>\n",
              "      <td>Intel Core i5 1240P Processor, Iris Xe Graphic...</td>\n",
              "      <td>https://www.laptopsdirect.co.uk/dell-vostro-53...</td>\n",
              "    </tr>\n",
              "    <tr>\n",
              "      <th>44</th>\n",
              "      <td>Lenovo V15 Intel Core i5-1235U 8GB RAM 256GB S...</td>\n",
              "      <td>£469.97</td>\n",
              "      <td>Intel Core i5 1235U Processor, Iris Xe Graphic...</td>\n",
              "      <td>https://www.laptopsdirect.co.uk/lenovo-v15-int...</td>\n",
              "    </tr>\n",
              "    <tr>\n",
              "      <th>45</th>\n",
              "      <td>Refurbished HP EliteBook 840 G3 Ultrabook Core...</td>\n",
              "      <td>£229.97</td>\n",
              "      <td>Intel Core i5 6200U Processor, 14 Inch 1366 x ...</td>\n",
              "      <td>https://www.laptopsdirect.co.uk/refurbished-hp...</td>\n",
              "    </tr>\n",
              "    <tr>\n",
              "      <th>46</th>\n",
              "      <td>Refurbished Asus C523 Intel Celeron N3350 4GB ...</td>\n",
              "      <td>£169.97</td>\n",
              "      <td>Intel Celeron N3350 Processor, 15.6 Inch Full ...</td>\n",
              "      <td>https://www.laptopsdirect.co.uk/refurbished-as...</td>\n",
              "    </tr>\n",
              "    <tr>\n",
              "      <th>47</th>\n",
              "      <td>HP 255 G9 AMD Ryzen 5 8GB RAM 512GB SSD 15.6 I...</td>\n",
              "      <td>£414.97</td>\n",
              "      <td>AMD Ryzen 5 5625U Processor, Radeon Graphics G...</td>\n",
              "      <td>https://www.laptopsdirect.co.uk/hp-255-g9-amd-...</td>\n",
              "    </tr>\n",
              "  </tbody>\n",
              "</table>\n",
              "</div>\n",
              "    <div class=\"colab-df-buttons\">\n",
              "\n",
              "  <div class=\"colab-df-container\">\n",
              "    <button class=\"colab-df-convert\" onclick=\"convertToInteractive('df-031df29c-d75c-4b63-8722-4c3ee78fc061')\"\n",
              "            title=\"Convert this dataframe to an interactive table.\"\n",
              "            style=\"display:none;\">\n",
              "\n",
              "  <svg xmlns=\"http://www.w3.org/2000/svg\" height=\"24px\" viewBox=\"0 -960 960 960\">\n",
              "    <path d=\"M120-120v-720h720v720H120Zm60-500h600v-160H180v160Zm220 220h160v-160H400v160Zm0 220h160v-160H400v160ZM180-400h160v-160H180v160Zm440 0h160v-160H620v160ZM180-180h160v-160H180v160Zm440 0h160v-160H620v160Z\"/>\n",
              "  </svg>\n",
              "    </button>\n",
              "\n",
              "  <style>\n",
              "    .colab-df-container {\n",
              "      display:flex;\n",
              "      gap: 12px;\n",
              "    }\n",
              "\n",
              "    .colab-df-convert {\n",
              "      background-color: #E8F0FE;\n",
              "      border: none;\n",
              "      border-radius: 50%;\n",
              "      cursor: pointer;\n",
              "      display: none;\n",
              "      fill: #1967D2;\n",
              "      height: 32px;\n",
              "      padding: 0 0 0 0;\n",
              "      width: 32px;\n",
              "    }\n",
              "\n",
              "    .colab-df-convert:hover {\n",
              "      background-color: #E2EBFA;\n",
              "      box-shadow: 0px 1px 2px rgba(60, 64, 67, 0.3), 0px 1px 3px 1px rgba(60, 64, 67, 0.15);\n",
              "      fill: #174EA6;\n",
              "    }\n",
              "\n",
              "    .colab-df-buttons div {\n",
              "      margin-bottom: 4px;\n",
              "    }\n",
              "\n",
              "    [theme=dark] .colab-df-convert {\n",
              "      background-color: #3B4455;\n",
              "      fill: #D2E3FC;\n",
              "    }\n",
              "\n",
              "    [theme=dark] .colab-df-convert:hover {\n",
              "      background-color: #434B5C;\n",
              "      box-shadow: 0px 1px 3px 1px rgba(0, 0, 0, 0.15);\n",
              "      filter: drop-shadow(0px 1px 2px rgba(0, 0, 0, 0.3));\n",
              "      fill: #FFFFFF;\n",
              "    }\n",
              "  </style>\n",
              "\n",
              "    <script>\n",
              "      const buttonEl =\n",
              "        document.querySelector('#df-031df29c-d75c-4b63-8722-4c3ee78fc061 button.colab-df-convert');\n",
              "      buttonEl.style.display =\n",
              "        google.colab.kernel.accessAllowed ? 'block' : 'none';\n",
              "\n",
              "      async function convertToInteractive(key) {\n",
              "        const element = document.querySelector('#df-031df29c-d75c-4b63-8722-4c3ee78fc061');\n",
              "        const dataTable =\n",
              "          await google.colab.kernel.invokeFunction('convertToInteractive',\n",
              "                                                    [key], {});\n",
              "        if (!dataTable) return;\n",
              "\n",
              "        const docLinkHtml = 'Like what you see? Visit the ' +\n",
              "          '<a target=\"_blank\" href=https://colab.research.google.com/notebooks/data_table.ipynb>data table notebook</a>'\n",
              "          + ' to learn more about interactive tables.';\n",
              "        element.innerHTML = '';\n",
              "        dataTable['output_type'] = 'display_data';\n",
              "        await google.colab.output.renderOutput(dataTable, element);\n",
              "        const docLink = document.createElement('div');\n",
              "        docLink.innerHTML = docLinkHtml;\n",
              "        element.appendChild(docLink);\n",
              "      }\n",
              "    </script>\n",
              "  </div>\n",
              "\n",
              "\n",
              "<div id=\"df-32e1f332-9260-4208-a768-8f6f04863cff\">\n",
              "  <button class=\"colab-df-quickchart\" onclick=\"quickchart('df-32e1f332-9260-4208-a768-8f6f04863cff')\"\n",
              "            title=\"Suggest charts.\"\n",
              "            style=\"display:none;\">\n",
              "\n",
              "<svg xmlns=\"http://www.w3.org/2000/svg\" height=\"24px\"viewBox=\"0 0 24 24\"\n",
              "     width=\"24px\">\n",
              "    <g>\n",
              "        <path d=\"M19 3H5c-1.1 0-2 .9-2 2v14c0 1.1.9 2 2 2h14c1.1 0 2-.9 2-2V5c0-1.1-.9-2-2-2zM9 17H7v-7h2v7zm4 0h-2V7h2v10zm4 0h-2v-4h2v4z\"/>\n",
              "    </g>\n",
              "</svg>\n",
              "  </button>\n",
              "\n",
              "<style>\n",
              "  .colab-df-quickchart {\n",
              "      --bg-color: #E8F0FE;\n",
              "      --fill-color: #1967D2;\n",
              "      --hover-bg-color: #E2EBFA;\n",
              "      --hover-fill-color: #174EA6;\n",
              "      --disabled-fill-color: #AAA;\n",
              "      --disabled-bg-color: #DDD;\n",
              "  }\n",
              "\n",
              "  [theme=dark] .colab-df-quickchart {\n",
              "      --bg-color: #3B4455;\n",
              "      --fill-color: #D2E3FC;\n",
              "      --hover-bg-color: #434B5C;\n",
              "      --hover-fill-color: #FFFFFF;\n",
              "      --disabled-bg-color: #3B4455;\n",
              "      --disabled-fill-color: #666;\n",
              "  }\n",
              "\n",
              "  .colab-df-quickchart {\n",
              "    background-color: var(--bg-color);\n",
              "    border: none;\n",
              "    border-radius: 50%;\n",
              "    cursor: pointer;\n",
              "    display: none;\n",
              "    fill: var(--fill-color);\n",
              "    height: 32px;\n",
              "    padding: 0;\n",
              "    width: 32px;\n",
              "  }\n",
              "\n",
              "  .colab-df-quickchart:hover {\n",
              "    background-color: var(--hover-bg-color);\n",
              "    box-shadow: 0 1px 2px rgba(60, 64, 67, 0.3), 0 1px 3px 1px rgba(60, 64, 67, 0.15);\n",
              "    fill: var(--button-hover-fill-color);\n",
              "  }\n",
              "\n",
              "  .colab-df-quickchart-complete:disabled,\n",
              "  .colab-df-quickchart-complete:disabled:hover {\n",
              "    background-color: var(--disabled-bg-color);\n",
              "    fill: var(--disabled-fill-color);\n",
              "    box-shadow: none;\n",
              "  }\n",
              "\n",
              "  .colab-df-spinner {\n",
              "    border: 2px solid var(--fill-color);\n",
              "    border-color: transparent;\n",
              "    border-bottom-color: var(--fill-color);\n",
              "    animation:\n",
              "      spin 1s steps(1) infinite;\n",
              "  }\n",
              "\n",
              "  @keyframes spin {\n",
              "    0% {\n",
              "      border-color: transparent;\n",
              "      border-bottom-color: var(--fill-color);\n",
              "      border-left-color: var(--fill-color);\n",
              "    }\n",
              "    20% {\n",
              "      border-color: transparent;\n",
              "      border-left-color: var(--fill-color);\n",
              "      border-top-color: var(--fill-color);\n",
              "    }\n",
              "    30% {\n",
              "      border-color: transparent;\n",
              "      border-left-color: var(--fill-color);\n",
              "      border-top-color: var(--fill-color);\n",
              "      border-right-color: var(--fill-color);\n",
              "    }\n",
              "    40% {\n",
              "      border-color: transparent;\n",
              "      border-right-color: var(--fill-color);\n",
              "      border-top-color: var(--fill-color);\n",
              "    }\n",
              "    60% {\n",
              "      border-color: transparent;\n",
              "      border-right-color: var(--fill-color);\n",
              "    }\n",
              "    80% {\n",
              "      border-color: transparent;\n",
              "      border-right-color: var(--fill-color);\n",
              "      border-bottom-color: var(--fill-color);\n",
              "    }\n",
              "    90% {\n",
              "      border-color: transparent;\n",
              "      border-bottom-color: var(--fill-color);\n",
              "    }\n",
              "  }\n",
              "</style>\n",
              "\n",
              "  <script>\n",
              "    async function quickchart(key) {\n",
              "      const quickchartButtonEl =\n",
              "        document.querySelector('#' + key + ' button');\n",
              "      quickchartButtonEl.disabled = true;  // To prevent multiple clicks.\n",
              "      quickchartButtonEl.classList.add('colab-df-spinner');\n",
              "      try {\n",
              "        const charts = await google.colab.kernel.invokeFunction(\n",
              "            'suggestCharts', [key], {});\n",
              "      } catch (error) {\n",
              "        console.error('Error during call to suggestCharts:', error);\n",
              "      }\n",
              "      quickchartButtonEl.classList.remove('colab-df-spinner');\n",
              "      quickchartButtonEl.classList.add('colab-df-quickchart-complete');\n",
              "    }\n",
              "    (() => {\n",
              "      let quickchartButtonEl =\n",
              "        document.querySelector('#df-32e1f332-9260-4208-a768-8f6f04863cff button');\n",
              "      quickchartButtonEl.style.display =\n",
              "        google.colab.kernel.accessAllowed ? 'block' : 'none';\n",
              "    })();\n",
              "  </script>\n",
              "</div>\n",
              "    </div>\n",
              "  </div>\n"
            ]
          },
          "metadata": {},
          "execution_count": 52
        }
      ]
    },
    {
      "cell_type": "code",
      "source": [
        "product_final.isna().sum()"
      ],
      "metadata": {
        "colab": {
          "base_uri": "https://localhost:8080/"
        },
        "id": "z5fpRJf36u5V",
        "outputId": "8e187845-60ef-457e-e5c5-f8c9c69d08d5"
      },
      "execution_count": null,
      "outputs": [
        {
          "output_type": "execute_result",
          "data": {
            "text/plain": [
              "Name              0\n",
              "Price             0\n",
              "ProductDetails    0\n",
              "Link              0\n",
              "dtype: int64"
            ]
          },
          "metadata": {},
          "execution_count": 53
        }
      ]
    },
    {
      "cell_type": "code",
      "source": [
        "product_final[product_final.duplicated()]"
      ],
      "metadata": {
        "colab": {
          "base_uri": "https://localhost:8080/",
          "height": 53
        },
        "id": "JfwKIAPX7IwX",
        "outputId": "e28272ac-e1ce-43eb-f4af-e78ee1d67bc2"
      },
      "execution_count": null,
      "outputs": [
        {
          "output_type": "execute_result",
          "data": {
            "text/plain": [
              "Empty DataFrame\n",
              "Columns: [Name, Price, ProductDetails, Link]\n",
              "Index: []"
            ],
            "text/html": [
              "\n",
              "  <div id=\"df-3f38b891-d431-40eb-bd3c-64ada1c9f320\" class=\"colab-df-container\">\n",
              "    <div>\n",
              "<style scoped>\n",
              "    .dataframe tbody tr th:only-of-type {\n",
              "        vertical-align: middle;\n",
              "    }\n",
              "\n",
              "    .dataframe tbody tr th {\n",
              "        vertical-align: top;\n",
              "    }\n",
              "\n",
              "    .dataframe thead th {\n",
              "        text-align: right;\n",
              "    }\n",
              "</style>\n",
              "<table border=\"1\" class=\"dataframe\">\n",
              "  <thead>\n",
              "    <tr style=\"text-align: right;\">\n",
              "      <th></th>\n",
              "      <th>Name</th>\n",
              "      <th>Price</th>\n",
              "      <th>ProductDetails</th>\n",
              "      <th>Link</th>\n",
              "    </tr>\n",
              "  </thead>\n",
              "  <tbody>\n",
              "  </tbody>\n",
              "</table>\n",
              "</div>\n",
              "    <div class=\"colab-df-buttons\">\n",
              "\n",
              "  <div class=\"colab-df-container\">\n",
              "    <button class=\"colab-df-convert\" onclick=\"convertToInteractive('df-3f38b891-d431-40eb-bd3c-64ada1c9f320')\"\n",
              "            title=\"Convert this dataframe to an interactive table.\"\n",
              "            style=\"display:none;\">\n",
              "\n",
              "  <svg xmlns=\"http://www.w3.org/2000/svg\" height=\"24px\" viewBox=\"0 -960 960 960\">\n",
              "    <path d=\"M120-120v-720h720v720H120Zm60-500h600v-160H180v160Zm220 220h160v-160H400v160Zm0 220h160v-160H400v160ZM180-400h160v-160H180v160Zm440 0h160v-160H620v160ZM180-180h160v-160H180v160Zm440 0h160v-160H620v160Z\"/>\n",
              "  </svg>\n",
              "    </button>\n",
              "\n",
              "  <style>\n",
              "    .colab-df-container {\n",
              "      display:flex;\n",
              "      gap: 12px;\n",
              "    }\n",
              "\n",
              "    .colab-df-convert {\n",
              "      background-color: #E8F0FE;\n",
              "      border: none;\n",
              "      border-radius: 50%;\n",
              "      cursor: pointer;\n",
              "      display: none;\n",
              "      fill: #1967D2;\n",
              "      height: 32px;\n",
              "      padding: 0 0 0 0;\n",
              "      width: 32px;\n",
              "    }\n",
              "\n",
              "    .colab-df-convert:hover {\n",
              "      background-color: #E2EBFA;\n",
              "      box-shadow: 0px 1px 2px rgba(60, 64, 67, 0.3), 0px 1px 3px 1px rgba(60, 64, 67, 0.15);\n",
              "      fill: #174EA6;\n",
              "    }\n",
              "\n",
              "    .colab-df-buttons div {\n",
              "      margin-bottom: 4px;\n",
              "    }\n",
              "\n",
              "    [theme=dark] .colab-df-convert {\n",
              "      background-color: #3B4455;\n",
              "      fill: #D2E3FC;\n",
              "    }\n",
              "\n",
              "    [theme=dark] .colab-df-convert:hover {\n",
              "      background-color: #434B5C;\n",
              "      box-shadow: 0px 1px 3px 1px rgba(0, 0, 0, 0.15);\n",
              "      filter: drop-shadow(0px 1px 2px rgba(0, 0, 0, 0.3));\n",
              "      fill: #FFFFFF;\n",
              "    }\n",
              "  </style>\n",
              "\n",
              "    <script>\n",
              "      const buttonEl =\n",
              "        document.querySelector('#df-3f38b891-d431-40eb-bd3c-64ada1c9f320 button.colab-df-convert');\n",
              "      buttonEl.style.display =\n",
              "        google.colab.kernel.accessAllowed ? 'block' : 'none';\n",
              "\n",
              "      async function convertToInteractive(key) {\n",
              "        const element = document.querySelector('#df-3f38b891-d431-40eb-bd3c-64ada1c9f320');\n",
              "        const dataTable =\n",
              "          await google.colab.kernel.invokeFunction('convertToInteractive',\n",
              "                                                    [key], {});\n",
              "        if (!dataTable) return;\n",
              "\n",
              "        const docLinkHtml = 'Like what you see? Visit the ' +\n",
              "          '<a target=\"_blank\" href=https://colab.research.google.com/notebooks/data_table.ipynb>data table notebook</a>'\n",
              "          + ' to learn more about interactive tables.';\n",
              "        element.innerHTML = '';\n",
              "        dataTable['output_type'] = 'display_data';\n",
              "        await google.colab.output.renderOutput(dataTable, element);\n",
              "        const docLink = document.createElement('div');\n",
              "        docLink.innerHTML = docLinkHtml;\n",
              "        element.appendChild(docLink);\n",
              "      }\n",
              "    </script>\n",
              "  </div>\n",
              "\n",
              "    </div>\n",
              "  </div>\n"
            ]
          },
          "metadata": {},
          "execution_count": 54
        }
      ]
    },
    {
      "cell_type": "code",
      "source": [
        "product_final.to_csv('finalproduct.csv',index=False)"
      ],
      "metadata": {
        "id": "ZjJzZCm57PJl"
      },
      "execution_count": null,
      "outputs": []
    },
    {
      "cell_type": "code",
      "source": [],
      "metadata": {
        "id": "fWDZ5InK7q_A"
      },
      "execution_count": null,
      "outputs": []
    }
  ]
}